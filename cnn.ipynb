{
  "nbformat": 4,
  "nbformat_minor": 0,
  "metadata": {
    "colab": {
      "name": "cnn.ipynb",
      "provenance": [],
      "collapsed_sections": []
    },
    "kernelspec": {
      "name": "python3",
      "display_name": "Python 3"
    },
    "language_info": {
      "name": "python"
    }
  },
  "cells": [
    {
      "cell_type": "code",
      "execution_count": 20,
      "metadata": {
        "id": "qUVLbqAud9L1"
      },
      "outputs": [],
      "source": [
        "from tensorflow.keras.datasets import mnist\n",
        "from tensorflow.keras.models  import Sequential\n",
        "from tensorflow.keras.layers import Conv2D, Activation, Dropout, Dense, MaxPooling2D, Flatten\n",
        "from tensorflow.keras.optimizers import SGD, Adam, Adadelta\n",
        "import numpy as np\n",
        "import tensorflow as tf"
      ]
    },
    {
      "cell_type": "code",
      "source": [
        "(x_train, y_train), (x_test, y_test) = mnist.load_data()\n",
        "print(x_train.shape)\n",
        "image_size=28\n",
        "x_train=np.array(x_train).reshape(-1, image_size ,image_size ,1)\n",
        "x_test=np.array(x_test).reshape(-1, image_size ,image_size ,1)\n",
        "#scale image =1 channel and all the data are scale\n",
        "print(x_train.shape)\n",
        "print(x_test.shape)\n",
        "x_train,x_test=x_train/255.0 , x_test/255.0\n",
        "print(x_train.shape[1:])"
      ],
      "metadata": {
        "colab": {
          "base_uri": "https://localhost:8080/"
        },
        "id": "xphi6r2TeHTL",
        "outputId": "5984f50d-d32b-4519-8166-ba2733c42994"
      },
      "execution_count": 21,
      "outputs": [
        {
          "output_type": "stream",
          "name": "stdout",
          "text": [
            "(60000, 28, 28)\n",
            "(60000, 28, 28, 1)\n",
            "(10000, 28, 28, 1)\n",
            "(28, 28, 1)\n"
          ]
        }
      ]
    },
    {
      "cell_type": "code",
      "source": [
        "first_model=Sequential()\n",
        "first_model.add(Conv2D(32 ,(5,5) ,input_shape= x_train.shape[1:] , padding='same'))\n",
        "first_model.add(Activation('relu'))\n",
        "first_model.add(MaxPooling2D(pool_size=(2,2) , strides=(2,2) , padding='same'))"
      ],
      "metadata": {
        "id": "GyMw2LD_eHd3"
      },
      "execution_count": 22,
      "outputs": []
    },
    {
      "cell_type": "code",
      "source": [
        "first_model.add(Conv2D(64 ,(5,5) , padding='same'))\n",
        "first_model.add(Activation('relu'))\n",
        "first_model.add(MaxPooling2D(pool_size=(2,2) , strides=(2,2) , padding='same'))"
      ],
      "metadata": {
        "id": "M97jtqhFvcfA"
      },
      "execution_count": 23,
      "outputs": []
    },
    {
      "cell_type": "code",
      "source": [
        "#make it flatten to multiply it to the Fc\n",
        "first_model.add(Flatten())"
      ],
      "metadata": {
        "id": "Gr5tTbNQxfwP"
      },
      "execution_count": 24,
      "outputs": []
    },
    {
      "cell_type": "code",
      "source": [
        "first_model.add(Dense(1024, activation='relu'))\n",
        "first_model.add(Dense(10, activation='softmax'))"
      ],
      "metadata": {
        "id": "1xUZJ3ZYylKt"
      },
      "execution_count": 25,
      "outputs": []
    },
    {
      "cell_type": "code",
      "source": [
        "first_model.summary()"
      ],
      "metadata": {
        "colab": {
          "base_uri": "https://localhost:8080/"
        },
        "id": "2SUTieOx0j5C",
        "outputId": "12b4bfc1-f347-4d88-df57-286eaf3f2082"
      },
      "execution_count": 26,
      "outputs": [
        {
          "output_type": "stream",
          "name": "stdout",
          "text": [
            "Model: \"sequential_2\"\n",
            "_________________________________________________________________\n",
            " Layer (type)                Output Shape              Param #   \n",
            "=================================================================\n",
            " conv2d_2 (Conv2D)           (None, 28, 28, 32)        832       \n",
            "                                                                 \n",
            " activation_1 (Activation)   (None, 28, 28, 32)        0         \n",
            "                                                                 \n",
            " max_pooling2d_1 (MaxPooling  (None, 14, 14, 32)       0         \n",
            " 2D)                                                             \n",
            "                                                                 \n",
            " conv2d_3 (Conv2D)           (None, 14, 14, 64)        51264     \n",
            "                                                                 \n",
            " activation_2 (Activation)   (None, 14, 14, 64)        0         \n",
            "                                                                 \n",
            " max_pooling2d_2 (MaxPooling  (None, 7, 7, 64)         0         \n",
            " 2D)                                                             \n",
            "                                                                 \n",
            " flatten (Flatten)           (None, 3136)              0         \n",
            "                                                                 \n",
            " dense_2 (Dense)             (None, 1024)              3212288   \n",
            "                                                                 \n",
            " dense_3 (Dense)             (None, 10)                10250     \n",
            "                                                                 \n",
            "=================================================================\n",
            "Total params: 3,274,634\n",
            "Trainable params: 3,274,634\n",
            "Non-trainable params: 0\n",
            "_________________________________________________________________\n"
          ]
        }
      ]
    },
    {
      "cell_type": "code",
      "source": [
        "optimize = SGD(learning_rate=0.05)\n",
        "first_model.compile(optimizer=optimize, loss=\"sparse_categorical_crossentropy\", metrics=[\"accuracy\"])\n",
        "first_model.fit(x_train, y_train, epochs=5 ,batch_size=20)\n",
        "loss, accuracy= first_model.evaluate(x_test, y_test)\n",
        "print( 'the Accuracy =' + accuracy*100)"
      ],
      "metadata": {
        "colab": {
          "base_uri": "https://localhost:8080/"
        },
        "id": "V6fmnzPQ1ID8",
        "outputId": "6fd5e8d2-400b-41c4-d985-e5425657119c"
      },
      "execution_count": null,
      "outputs": [
        {
          "output_type": "stream",
          "name": "stdout",
          "text": [
            "Epoch 1/5\n",
            "1982/3000 [==================>...........] - ETA: 1:12 - loss: 0.0673 - accuracy: 0.9784"
          ]
        }
      ]
    }
  ]
}